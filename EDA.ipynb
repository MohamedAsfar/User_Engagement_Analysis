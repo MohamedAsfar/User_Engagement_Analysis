{
 "cells": [
  {
   "cell_type": "code",
   "execution_count": 1,
   "metadata": {},
   "outputs": [
    {
     "data": {
      "text/plain": [
       "'C:\\\\Users\\\\Mohamed Asfar\\\\User Activity Analysis'"
      ]
     },
     "execution_count": 1,
     "metadata": {},
     "output_type": "execute_result"
    }
   ],
   "source": [
    "pwd"
   ]
  },
  {
   "cell_type": "code",
   "execution_count": 2,
   "metadata": {},
   "outputs": [],
   "source": [
    "#Importing Libraries\n",
    "import numpy as np\n",
    "import matplotlib.pyplot as plt\n",
    "import pandas as pd\n",
    "import seaborn as sn"
   ]
  },
  {
   "cell_type": "code",
   "execution_count": 3,
   "metadata": {},
   "outputs": [],
   "source": [
    "# Reading the dataset\n",
    "users_raw_data = pd.read_csv(\"users.csv\") \n",
    "emails_raw_data = pd.read_csv(\"emails.csv\")\n",
    "events_raw_data = pd.read_csv(\"events.csv\")"
   ]
  },
  {
   "cell_type": "code",
   "execution_count": 4,
   "metadata": {},
   "outputs": [
    {
     "data": {
      "text/html": [
       "<div>\n",
       "<style scoped>\n",
       "    .dataframe tbody tr th:only-of-type {\n",
       "        vertical-align: middle;\n",
       "    }\n",
       "\n",
       "    .dataframe tbody tr th {\n",
       "        vertical-align: top;\n",
       "    }\n",
       "\n",
       "    .dataframe thead th {\n",
       "        text-align: right;\n",
       "    }\n",
       "</style>\n",
       "<table border=\"1\" class=\"dataframe\">\n",
       "  <thead>\n",
       "    <tr style=\"text-align: right;\">\n",
       "      <th></th>\n",
       "      <th>user_id</th>\n",
       "      <th>created_at</th>\n",
       "      <th>company_id</th>\n",
       "      <th>language</th>\n",
       "      <th>activated_at</th>\n",
       "      <th>state</th>\n",
       "    </tr>\n",
       "  </thead>\n",
       "  <tbody>\n",
       "    <tr>\n",
       "      <th>0</th>\n",
       "      <td>0.0</td>\n",
       "      <td>2013-01-01 20:59:39</td>\n",
       "      <td>5737.0</td>\n",
       "      <td>english</td>\n",
       "      <td>2013-01-01 21:01:07</td>\n",
       "      <td>active</td>\n",
       "    </tr>\n",
       "    <tr>\n",
       "      <th>1</th>\n",
       "      <td>1.0</td>\n",
       "      <td>2013-01-01 13:07:46</td>\n",
       "      <td>28.0</td>\n",
       "      <td>english</td>\n",
       "      <td>NaN</td>\n",
       "      <td>pending</td>\n",
       "    </tr>\n",
       "    <tr>\n",
       "      <th>2</th>\n",
       "      <td>2.0</td>\n",
       "      <td>2013-01-01 10:59:05</td>\n",
       "      <td>51.0</td>\n",
       "      <td>english</td>\n",
       "      <td>NaN</td>\n",
       "      <td>pending</td>\n",
       "    </tr>\n",
       "    <tr>\n",
       "      <th>3</th>\n",
       "      <td>3.0</td>\n",
       "      <td>2013-01-01 18:40:36</td>\n",
       "      <td>2800.0</td>\n",
       "      <td>german</td>\n",
       "      <td>2013-01-01 18:42:02</td>\n",
       "      <td>active</td>\n",
       "    </tr>\n",
       "    <tr>\n",
       "      <th>4</th>\n",
       "      <td>4.0</td>\n",
       "      <td>2013-01-01 14:37:51</td>\n",
       "      <td>5110.0</td>\n",
       "      <td>indian</td>\n",
       "      <td>2013-01-01 14:39:05</td>\n",
       "      <td>active</td>\n",
       "    </tr>\n",
       "    <tr>\n",
       "      <th>...</th>\n",
       "      <td>...</td>\n",
       "      <td>...</td>\n",
       "      <td>...</td>\n",
       "      <td>...</td>\n",
       "      <td>...</td>\n",
       "      <td>...</td>\n",
       "    </tr>\n",
       "    <tr>\n",
       "      <th>19061</th>\n",
       "      <td>19061.0</td>\n",
       "      <td>2014-08-31 13:21:16</td>\n",
       "      <td>2156.0</td>\n",
       "      <td>chinese</td>\n",
       "      <td>2014-08-31 13:22:50</td>\n",
       "      <td>active</td>\n",
       "    </tr>\n",
       "    <tr>\n",
       "      <th>19062</th>\n",
       "      <td>19062.0</td>\n",
       "      <td>2014-08-31 19:21:23</td>\n",
       "      <td>7520.0</td>\n",
       "      <td>spanish</td>\n",
       "      <td>NaN</td>\n",
       "      <td>pending</td>\n",
       "    </tr>\n",
       "    <tr>\n",
       "      <th>19063</th>\n",
       "      <td>19063.0</td>\n",
       "      <td>2014-08-31 07:10:41</td>\n",
       "      <td>72.0</td>\n",
       "      <td>spanish</td>\n",
       "      <td>2014-08-31 07:12:09</td>\n",
       "      <td>active</td>\n",
       "    </tr>\n",
       "    <tr>\n",
       "      <th>19064</th>\n",
       "      <td>19064.0</td>\n",
       "      <td>2014-08-31 17:45:18</td>\n",
       "      <td>2.0</td>\n",
       "      <td>english</td>\n",
       "      <td>NaN</td>\n",
       "      <td>pending</td>\n",
       "    </tr>\n",
       "    <tr>\n",
       "      <th>19065</th>\n",
       "      <td>19065.0</td>\n",
       "      <td>2014-08-31 19:29:19</td>\n",
       "      <td>8352.0</td>\n",
       "      <td>italian</td>\n",
       "      <td>NaN</td>\n",
       "      <td>pending</td>\n",
       "    </tr>\n",
       "  </tbody>\n",
       "</table>\n",
       "<p>19066 rows × 6 columns</p>\n",
       "</div>"
      ],
      "text/plain": [
       "       user_id           created_at  company_id language         activated_at  \\\n",
       "0          0.0  2013-01-01 20:59:39      5737.0  english  2013-01-01 21:01:07   \n",
       "1          1.0  2013-01-01 13:07:46        28.0  english                  NaN   \n",
       "2          2.0  2013-01-01 10:59:05        51.0  english                  NaN   \n",
       "3          3.0  2013-01-01 18:40:36      2800.0   german  2013-01-01 18:42:02   \n",
       "4          4.0  2013-01-01 14:37:51      5110.0   indian  2013-01-01 14:39:05   \n",
       "...        ...                  ...         ...      ...                  ...   \n",
       "19061  19061.0  2014-08-31 13:21:16      2156.0  chinese  2014-08-31 13:22:50   \n",
       "19062  19062.0  2014-08-31 19:21:23      7520.0  spanish                  NaN   \n",
       "19063  19063.0  2014-08-31 07:10:41        72.0  spanish  2014-08-31 07:12:09   \n",
       "19064  19064.0  2014-08-31 17:45:18         2.0  english                  NaN   \n",
       "19065  19065.0  2014-08-31 19:29:19      8352.0  italian                  NaN   \n",
       "\n",
       "         state  \n",
       "0       active  \n",
       "1      pending  \n",
       "2      pending  \n",
       "3       active  \n",
       "4       active  \n",
       "...        ...  \n",
       "19061   active  \n",
       "19062  pending  \n",
       "19063   active  \n",
       "19064  pending  \n",
       "19065  pending  \n",
       "\n",
       "[19066 rows x 6 columns]"
      ]
     },
     "execution_count": 4,
     "metadata": {},
     "output_type": "execute_result"
    }
   ],
   "source": [
    "users_raw_data"
   ]
  },
  {
   "cell_type": "code",
   "execution_count": 5,
   "metadata": {},
   "outputs": [
    {
     "data": {
      "text/plain": [
       "array(['active', 'pending', 'pending', ..., 'active', 'pending',\n",
       "       'pending'], dtype=object)"
      ]
     },
     "execution_count": 5,
     "metadata": {},
     "output_type": "execute_result"
    }
   ],
   "source": [
    "users_raw_data[\"state\"].values"
   ]
  },
  {
   "cell_type": "code",
   "execution_count": 6,
   "metadata": {},
   "outputs": [
    {
     "data": {
      "text/html": [
       "<div>\n",
       "<style scoped>\n",
       "    .dataframe tbody tr th:only-of-type {\n",
       "        vertical-align: middle;\n",
       "    }\n",
       "\n",
       "    .dataframe tbody tr th {\n",
       "        vertical-align: top;\n",
       "    }\n",
       "\n",
       "    .dataframe thead th {\n",
       "        text-align: right;\n",
       "    }\n",
       "</style>\n",
       "<table border=\"1\" class=\"dataframe\">\n",
       "  <thead>\n",
       "    <tr style=\"text-align: right;\">\n",
       "      <th></th>\n",
       "      <th>user_id</th>\n",
       "      <th>created_at</th>\n",
       "      <th>company_id</th>\n",
       "      <th>language</th>\n",
       "      <th>activated_at</th>\n",
       "      <th>state</th>\n",
       "    </tr>\n",
       "  </thead>\n",
       "  <tbody>\n",
       "    <tr>\n",
       "      <th>0</th>\n",
       "      <td>0.0</td>\n",
       "      <td>2013-01-01 20:59:39</td>\n",
       "      <td>5737.0</td>\n",
       "      <td>english</td>\n",
       "      <td>2013-01-01 21:01:07</td>\n",
       "      <td>active</td>\n",
       "    </tr>\n",
       "    <tr>\n",
       "      <th>1</th>\n",
       "      <td>1.0</td>\n",
       "      <td>2013-01-01 13:07:46</td>\n",
       "      <td>28.0</td>\n",
       "      <td>english</td>\n",
       "      <td>NaN</td>\n",
       "      <td>pending</td>\n",
       "    </tr>\n",
       "    <tr>\n",
       "      <th>2</th>\n",
       "      <td>2.0</td>\n",
       "      <td>2013-01-01 10:59:05</td>\n",
       "      <td>51.0</td>\n",
       "      <td>english</td>\n",
       "      <td>NaN</td>\n",
       "      <td>pending</td>\n",
       "    </tr>\n",
       "    <tr>\n",
       "      <th>3</th>\n",
       "      <td>3.0</td>\n",
       "      <td>2013-01-01 18:40:36</td>\n",
       "      <td>2800.0</td>\n",
       "      <td>german</td>\n",
       "      <td>2013-01-01 18:42:02</td>\n",
       "      <td>active</td>\n",
       "    </tr>\n",
       "    <tr>\n",
       "      <th>4</th>\n",
       "      <td>4.0</td>\n",
       "      <td>2013-01-01 14:37:51</td>\n",
       "      <td>5110.0</td>\n",
       "      <td>indian</td>\n",
       "      <td>2013-01-01 14:39:05</td>\n",
       "      <td>active</td>\n",
       "    </tr>\n",
       "    <tr>\n",
       "      <th>...</th>\n",
       "      <td>...</td>\n",
       "      <td>...</td>\n",
       "      <td>...</td>\n",
       "      <td>...</td>\n",
       "      <td>...</td>\n",
       "      <td>...</td>\n",
       "    </tr>\n",
       "    <tr>\n",
       "      <th>19061</th>\n",
       "      <td>19061.0</td>\n",
       "      <td>2014-08-31 13:21:16</td>\n",
       "      <td>2156.0</td>\n",
       "      <td>chinese</td>\n",
       "      <td>2014-08-31 13:22:50</td>\n",
       "      <td>active</td>\n",
       "    </tr>\n",
       "    <tr>\n",
       "      <th>19062</th>\n",
       "      <td>19062.0</td>\n",
       "      <td>2014-08-31 19:21:23</td>\n",
       "      <td>7520.0</td>\n",
       "      <td>spanish</td>\n",
       "      <td>NaN</td>\n",
       "      <td>pending</td>\n",
       "    </tr>\n",
       "    <tr>\n",
       "      <th>19063</th>\n",
       "      <td>19063.0</td>\n",
       "      <td>2014-08-31 07:10:41</td>\n",
       "      <td>72.0</td>\n",
       "      <td>spanish</td>\n",
       "      <td>2014-08-31 07:12:09</td>\n",
       "      <td>active</td>\n",
       "    </tr>\n",
       "    <tr>\n",
       "      <th>19064</th>\n",
       "      <td>19064.0</td>\n",
       "      <td>2014-08-31 17:45:18</td>\n",
       "      <td>2.0</td>\n",
       "      <td>english</td>\n",
       "      <td>NaN</td>\n",
       "      <td>pending</td>\n",
       "    </tr>\n",
       "    <tr>\n",
       "      <th>19065</th>\n",
       "      <td>19065.0</td>\n",
       "      <td>2014-08-31 19:29:19</td>\n",
       "      <td>8352.0</td>\n",
       "      <td>italian</td>\n",
       "      <td>NaN</td>\n",
       "      <td>pending</td>\n",
       "    </tr>\n",
       "  </tbody>\n",
       "</table>\n",
       "<p>19066 rows × 6 columns</p>\n",
       "</div>"
      ],
      "text/plain": [
       "       user_id           created_at  company_id language         activated_at  \\\n",
       "0          0.0  2013-01-01 20:59:39      5737.0  english  2013-01-01 21:01:07   \n",
       "1          1.0  2013-01-01 13:07:46        28.0  english                  NaN   \n",
       "2          2.0  2013-01-01 10:59:05        51.0  english                  NaN   \n",
       "3          3.0  2013-01-01 18:40:36      2800.0   german  2013-01-01 18:42:02   \n",
       "4          4.0  2013-01-01 14:37:51      5110.0   indian  2013-01-01 14:39:05   \n",
       "...        ...                  ...         ...      ...                  ...   \n",
       "19061  19061.0  2014-08-31 13:21:16      2156.0  chinese  2014-08-31 13:22:50   \n",
       "19062  19062.0  2014-08-31 19:21:23      7520.0  spanish                  NaN   \n",
       "19063  19063.0  2014-08-31 07:10:41        72.0  spanish  2014-08-31 07:12:09   \n",
       "19064  19064.0  2014-08-31 17:45:18         2.0  english                  NaN   \n",
       "19065  19065.0  2014-08-31 19:29:19      8352.0  italian                  NaN   \n",
       "\n",
       "         state  \n",
       "0       active  \n",
       "1      pending  \n",
       "2      pending  \n",
       "3       active  \n",
       "4       active  \n",
       "...        ...  \n",
       "19061   active  \n",
       "19062  pending  \n",
       "19063   active  \n",
       "19064  pending  \n",
       "19065  pending  \n",
       "\n",
       "[19066 rows x 6 columns]"
      ]
     },
     "execution_count": 6,
     "metadata": {},
     "output_type": "execute_result"
    }
   ],
   "source": [
    "user_df = users_raw_data.copy()\n",
    "user_df"
   ]
  },
  {
   "cell_type": "code",
   "execution_count": 7,
   "metadata": {},
   "outputs": [
    {
     "data": {
      "text/plain": [
       "<matplotlib.axes._subplots.AxesSubplot at 0x1ce903b5ec8>"
      ]
     },
     "execution_count": 7,
     "metadata": {},
     "output_type": "execute_result"
    },
    {
     "data": {
      "image/png": "[encoded data removed]",
      "text/plain": [
       "<Figure size 360x360 with 1 Axes>"
      ]
     },
     "metadata": {
      "needs_background": "light"
     },
     "output_type": "display_data"
    }
   ],
   "source": [
    "plt.figure(figsize = (5,5))\n",
    "sn.countplot(x='state',data=user_df)"
   ]
  },
  {
   "cell_type": "code",
   "execution_count": 8,
   "metadata": {},
   "outputs": [
    {
     "data": {
      "text/plain": [
       "pending    9685\n",
       "active     9381\n",
       "Name: state, dtype: int64"
      ]
     },
     "execution_count": 8,
     "metadata": {},
     "output_type": "execute_result"
    }
   ],
   "source": [
    "user_df[\"state\"].value_counts()"
   ]
  },
  {
   "cell_type": "code",
   "execution_count": null,
   "metadata": {},
   "outputs": [],
   "source": []
  },
  {
   "cell_type": "code",
   "execution_count": 9,
   "metadata": {},
   "outputs": [
    {
     "data": {
      "image/png": "[encoded data removed]",
      "text/plain": [
       "<Figure size 432x288 with 1 Axes>"
      ]
     },
     "metadata": {},
     "output_type": "display_data"
    }
   ],
   "source": [
    "my_labels = 'Active','Pending'\n",
    "state = [9381, 9685]\n",
    "\n",
    "plt.pie(state,labels=my_labels,autopct='%1.1f%%' )\n",
    "plt.title('My Tasks')\n",
    "plt.axis('equal')\n",
    "plt.show()"
   ]
  },
  {
   "cell_type": "code",
   "execution_count": 10,
   "metadata": {},
   "outputs": [
    {
     "data": {
      "text/plain": [
       "array(['english', 'german', 'indian', 'spanish', 'french', 'arabic',\n",
       "       'portugese', 'japanese', 'italian', 'chinese', 'russian', 'korean'],\n",
       "      dtype=object)"
      ]
     },
     "execution_count": 10,
     "metadata": {},
     "output_type": "execute_result"
    }
   ],
   "source": [
    "user_df[\"language\"].unique()"
   ]
  },
  {
   "cell_type": "code",
   "execution_count": 11,
   "metadata": {},
   "outputs": [
    {
     "data": {
      "text/plain": [
       "english      9585\n",
       "spanish      1771\n",
       "french       1522\n",
       "japanese     1324\n",
       "german       1067\n",
       "arabic        768\n",
       "chinese       685\n",
       "indian        583\n",
       "russian       561\n",
       "portugese     510\n",
       "italian       420\n",
       "korean        270\n",
       "Name: language, dtype: int64"
      ]
     },
     "execution_count": 11,
     "metadata": {},
     "output_type": "execute_result"
    }
   ],
   "source": [
    "user_df[\"language\"].value_counts()"
   ]
  },
  {
   "cell_type": "code",
   "execution_count": 21,
   "metadata": {},
   "outputs": [
    {
     "data": {
      "image/png": "[encoded data removed]",
      "text/plain": [
       "<Figure size 432x288 with 1 Axes>"
      ]
     },
     "metadata": {},
     "output_type": "display_data"
    }
   ],
   "source": [
    "my_labels = 'english','spanish' , 'indian','german', 'french', 'arabic','portugese', 'japanese', 'italian', 'chinese', 'russian', 'korean'\n",
    "    \n",
    "language = [9585, 1771,1522,1324,1067, 768,685,583, 561,510, 420, 270]\n",
    "\n",
    "plt.pie(language,labels=my_labels,autopct='%1.1f%%', radius= 10)\n",
    "plt.title('language')\n",
    "plt.axis('equal')\n",
    "plt.show()"
   ]
  },
  {
   "cell_type": "code",
   "execution_count": 20,
   "metadata": {},
   "outputs": [
    {
     "data": {
      "text/plain": [
       "<matplotlib.axes._subplots.AxesSubplot at 0x1ce922a96c8>"
      ]
     },
     "execution_count": 20,
     "metadata": {},
     "output_type": "execute_result"
    },
    {
     "data": {
      "image/png": "[encoded data removed]",
      "text/plain": [
       "<Figure size 864x432 with 1 Axes>"
      ]
     },
     "metadata": {
      "needs_background": "light"
     },
     "output_type": "display_data"
    }
   ],
   "source": [
    "plt.figure(figsize = (12,6))\n",
    "sn.countplot(x='language',data=user_df)"
   ]
  },
  {
   "cell_type": "code",
   "execution_count": 23,
   "metadata": {},
   "outputs": [
    {
     "data": {
      "text/html": [
       "<div>\n",
       "<style scoped>\n",
       "    .dataframe tbody tr th:only-of-type {\n",
       "        vertical-align: middle;\n",
       "    }\n",
       "\n",
       "    .dataframe tbody tr th {\n",
       "        vertical-align: top;\n",
       "    }\n",
       "\n",
       "    .dataframe thead th {\n",
       "        text-align: right;\n",
       "    }\n",
       "</style>\n",
       "<table border=\"1\" class=\"dataframe\">\n",
       "  <thead>\n",
       "    <tr style=\"text-align: right;\">\n",
       "      <th></th>\n",
       "      <th>user_id</th>\n",
       "      <th>occurred_at</th>\n",
       "      <th>action</th>\n",
       "      <th>user_type</th>\n",
       "    </tr>\n",
       "  </thead>\n",
       "  <tbody>\n",
       "    <tr>\n",
       "      <th>0</th>\n",
       "      <td>0.0</td>\n",
       "      <td>2014-05-06 09:30:00</td>\n",
       "      <td>sent_weekly_digest</td>\n",
       "      <td>1.0</td>\n",
       "    </tr>\n",
       "    <tr>\n",
       "      <th>1</th>\n",
       "      <td>0.0</td>\n",
       "      <td>2014-05-13 09:30:00</td>\n",
       "      <td>sent_weekly_digest</td>\n",
       "      <td>1.0</td>\n",
       "    </tr>\n",
       "    <tr>\n",
       "      <th>2</th>\n",
       "      <td>0.0</td>\n",
       "      <td>2014-05-20 09:30:00</td>\n",
       "      <td>sent_weekly_digest</td>\n",
       "      <td>1.0</td>\n",
       "    </tr>\n",
       "    <tr>\n",
       "      <th>3</th>\n",
       "      <td>0.0</td>\n",
       "      <td>2014-05-27 09:30:00</td>\n",
       "      <td>sent_weekly_digest</td>\n",
       "      <td>1.0</td>\n",
       "    </tr>\n",
       "    <tr>\n",
       "      <th>4</th>\n",
       "      <td>0.0</td>\n",
       "      <td>2014-06-03 09:30:00</td>\n",
       "      <td>sent_weekly_digest</td>\n",
       "      <td>1.0</td>\n",
       "    </tr>\n",
       "    <tr>\n",
       "      <th>...</th>\n",
       "      <td>...</td>\n",
       "      <td>...</td>\n",
       "      <td>...</td>\n",
       "      <td>...</td>\n",
       "    </tr>\n",
       "    <tr>\n",
       "      <th>90384</th>\n",
       "      <td>18814.0</td>\n",
       "      <td>2014-08-31 12:12:26</td>\n",
       "      <td>email_open</td>\n",
       "      <td>3.0</td>\n",
       "    </tr>\n",
       "    <tr>\n",
       "      <th>90385</th>\n",
       "      <td>18814.0</td>\n",
       "      <td>2014-08-31 12:12:57</td>\n",
       "      <td>email_clickthrough</td>\n",
       "      <td>3.0</td>\n",
       "    </tr>\n",
       "    <tr>\n",
       "      <th>90386</th>\n",
       "      <td>18815.0</td>\n",
       "      <td>2014-08-31 13:39:56</td>\n",
       "      <td>sent_reengagement_email</td>\n",
       "      <td>2.0</td>\n",
       "    </tr>\n",
       "    <tr>\n",
       "      <th>90387</th>\n",
       "      <td>18815.0</td>\n",
       "      <td>2014-08-31 13:40:14</td>\n",
       "      <td>email_open</td>\n",
       "      <td>2.0</td>\n",
       "    </tr>\n",
       "    <tr>\n",
       "      <th>90388</th>\n",
       "      <td>18815.0</td>\n",
       "      <td>2014-08-31 13:40:47</td>\n",
       "      <td>email_clickthrough</td>\n",
       "      <td>2.0</td>\n",
       "    </tr>\n",
       "  </tbody>\n",
       "</table>\n",
       "<p>90389 rows × 4 columns</p>\n",
       "</div>"
      ],
      "text/plain": [
       "       user_id          occurred_at                   action  user_type\n",
       "0          0.0  2014-05-06 09:30:00       sent_weekly_digest        1.0\n",
       "1          0.0  2014-05-13 09:30:00       sent_weekly_digest        1.0\n",
       "2          0.0  2014-05-20 09:30:00       sent_weekly_digest        1.0\n",
       "3          0.0  2014-05-27 09:30:00       sent_weekly_digest        1.0\n",
       "4          0.0  2014-06-03 09:30:00       sent_weekly_digest        1.0\n",
       "...        ...                  ...                      ...        ...\n",
       "90384  18814.0  2014-08-31 12:12:26               email_open        3.0\n",
       "90385  18814.0  2014-08-31 12:12:57       email_clickthrough        3.0\n",
       "90386  18815.0  2014-08-31 13:39:56  sent_reengagement_email        2.0\n",
       "90387  18815.0  2014-08-31 13:40:14               email_open        2.0\n",
       "90388  18815.0  2014-08-31 13:40:47       email_clickthrough        2.0\n",
       "\n",
       "[90389 rows x 4 columns]"
      ]
     },
     "execution_count": 23,
     "metadata": {},
     "output_type": "execute_result"
    }
   ],
   "source": [
    "#emails dataset\n",
    "emails_df =emails_raw_data\n",
    "emails_df"
   ]
  },
  {
   "cell_type": "code",
   "execution_count": 26,
   "metadata": {},
   "outputs": [
    {
     "data": {
      "text/plain": [
       "Text(0, 0.5, 'Range')"
      ]
     },
     "execution_count": 26,
     "metadata": {},
     "output_type": "execute_result"
    },
    {
     "data": {
      "image/png": "[encoded data removed]",
      "text/plain": [
       "<Figure size 720x360 with 1 Axes>"
      ]
     },
     "metadata": {
      "needs_background": "light"
     },
     "output_type": "display_data"
    }
   ],
   "source": [
    "plt.figure(figsize = (10,5))\n",
    "ax=sn.countplot(x = \"user_type\", data = emails_df, hue='action')\n",
    "ax.set_title(\"user_type\", fontsize = 20)\n",
    "plt.xlabel(\"user_type:\",fontsize=17)\n",
    "plt.ylabel(\"Range\", fontsize=17)"
   ]
  },
  {
   "cell_type": "code",
   "execution_count": null,
   "metadata": {},
   "outputs": [],
   "source": []
  }
 ],
 "metadata": {
  "kernelspec": {
   "display_name": "Python 3",
   "language": "python",
   "name": "python3"
  },
  "language_info": {
   "codemirror_mode": {
    "name": "ipython",
    "version": 3
   },
   "file_extension": ".py",
   "mimetype": "text/x-python",
   "name": "python",
   "nbconvert_exporter": "python",
   "pygments_lexer": "ipython3",
   "version": "3.7.6"
  }
 },
 "nbformat": 4,
 "nbformat_minor": 4
}
